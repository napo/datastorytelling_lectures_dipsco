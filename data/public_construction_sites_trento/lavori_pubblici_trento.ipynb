{
 "cells": [
  {
   "cell_type": "code",
   "execution_count": 1,
   "metadata": {},
   "outputs": [],
   "source": [
    "import pandas as pd\n",
    "import xml.etree.ElementTree as ET\n",
    "import base64\n",
    "import re\n",
    "import requests\n",
    "import os"
   ]
  },
  {
   "cell_type": "code",
   "execution_count": 2,
   "metadata": {},
   "outputs": [],
   "source": [
    "def get_element_by_tag(element, tag):\n",
    "    \"\"\"Retrieve an element by tag name, considering namespace.\"\"\"\n",
    "    return element.find(f\".//{{*}}{tag}\")\n",
    "\n",
    "def decode_field_name(encoded_name):\n",
    "    \"\"\"Decode a base64 encoded string.\"\"\"\n",
    "    decoded_bytes = base64.b64decode(encoded_name)\n",
    "    return decoded_bytes.decode('utf-8')\n",
    "\n",
    "def extract_corrected_data(placemark, category):\n",
    "    \"\"\"Extract and return data from a Placemark element with corrected field names and data mapping.\"\"\"\n",
    "    data = {}\n",
    "    extended_data = get_element_by_tag(placemark, 'ExtendedData')\n",
    "    if extended_data:\n",
    "        for data_field in extended_data.findall('.//{*}SimpleData'):\n",
    "            decoded_field_name = decode_field_name(data_field.attrib['name'].split(':')[-1])\n",
    "            data[decoded_field_name] = data_field.text\n",
    "    point = get_element_by_tag(placemark, 'Point')\n",
    "    if point:\n",
    "        coords = get_element_by_tag(point, 'coordinates').text.split(',')\n",
    "        data['LONGITUDINE'] = coords[0]\n",
    "        data['LATITUDINE'] = coords[1]\n",
    "    data['CATEGORIA'] = category\n",
    "\n",
    "    # add the field URLIMAGE if is finding the tag Carousel\n",
    "    carousel = get_element_by_tag(placemark, 'Carousel')\n",
    "    if carousel:\n",
    "        image_url = get_element_by_tag(carousel, 'ImageUrl')\n",
    "        if image_url is not None:\n",
    "            data['URLIMAGE'] = image_url.text\n",
    "\n",
    "    return data"
   ]
  },
  {
   "cell_type": "code",
   "execution_count": 3,
   "metadata": {},
   "outputs": [],
   "source": [
    "file_path = 'lavori_pubblici_trento.kml'\n",
    "with open(file_path, 'r') as file:\n",
    "    kml_content = file.read()\n",
    "root = ET.fromstring(kml_content)\n",
    "\n",
    "records = []\n",
    "for folder in root.findall('.//{*}Folder'):\n",
    "    category = get_element_by_tag(folder, 'name').text\n",
    "    for placemark in folder.findall('.//{*}Placemark'):\n",
    "        record = extract_corrected_data(placemark, category)\n",
    "        records.append(record)\n",
    "\n",
    "df = pd.DataFrame(records)\n",
    "\n",
    "# Assicurati che la colonna URLIMAGE esista prima di procedere\n",
    "if 'URLIMAGE' in df.columns:\n",
    "    df['URLIMAGE'] = df['URLIMAGE'].apply(lambda url: url.split('&fife=s')[0] if pd.notna(url) else url)\n",
    "    for index, url in enumerate(df['URLIMAGE'].dropna()):\n",
    "        image_name = f'image_{index+1:04d}.jpg'\n",
    "        response = requests.get(url)\n",
    "        if response.status_code == 200:\n",
    "            with open(os.path.join('images', image_name), 'wb') as file:\n",
    "                file.write(response.content)\n",
    "        df.loc[df['URLIMAGE'] == url, 'IMAGENAME'] = image_name\n",
    "\n",
    "df.TIPOLOGIA = df.TIPOLOGIA.apply(lambda x: x[1:] if not x[0].isalpha() else x)\n",
    "df.STATO = df.STATO.apply(lambda x: x[1:] if not x[0].isalpha() else x)\n",
    "#df['IMPORTO'] = df.IMPORTO.apply(clean_and_sum_importo)\n",
    "#df.to_csv('lavori_pubblici.csv', index=False)"
   ]
  },
  {
   "cell_type": "code",
   "execution_count": 4,
   "metadata": {},
   "outputs": [],
   "source": [
    "df.rename(columns={'IMPORTO':'DESC_IMPORTO'},inplace=True)"
   ]
  },
  {
   "cell_type": "code",
   "execution_count": 11,
   "metadata": {},
   "outputs": [],
   "source": [
    "def clean_and_sum(s):\n",
    "    # Rimuovi i punti usati come separatori delle migliaia\n",
    "    cleaned_string = re.sub(r'\\.(?=\\d{3})', '', s)\n",
    "    # Trova tutti i gruppi di numeri\n",
    "    numbers = re.findall(r'\\d+', cleaned_string)\n",
    "    print(numbers)\n",
    "    break\n",
    "    result = 0\n",
    "    for sublist in numbers:\n",
    "        if len(sublist) == 1:\n",
    "            # Converti l'elemento singolo in intero e aggiungilo ai risultati\n",
    "            result = (int(sublist[0]))\n",
    "        else:\n",
    "            # Inizializza la somma e il moltiplicatore\n",
    "            sum_value = 0\n",
    "            multiplier = 1\n",
    "            for item in sublist:\n",
    "                if len(item) == 1 and item != '0':\n",
    "                    # Se l'elemento ha una sola cifra e non è zero, moltiplica\n",
    "                    multiplier *= int(item)\n",
    "                else:\n",
    "                    # Altrimenti somma il valore\n",
    "                    sum_value += int(item)\n",
    "            # Aggiungi il risultato della somma e moltiplicatore al risultato finale\n",
    "            result = (sum_value * multiplier if multiplier > 1 else sum_value)\n",
    "    return result"
   ]
  },
  {
   "cell_type": "code",
   "execution_count": 12,
   "metadata": {},
   "outputs": [],
   "source": [
    "ciapalo = list(df.DESC_IMPORTO.apply(lambda s:clean_and_sum(s)))"
   ]
  },
  {
   "cell_type": "code",
   "execution_count": 13,
   "metadata": {},
   "outputs": [
    {
     "data": {
      "text/plain": [
       "[0,\n",
       " 0,\n",
       " 0,\n",
       " 0,\n",
       " 0,\n",
       " 0,\n",
       " 0,\n",
       " 0,\n",
       " 0,\n",
       " 0,\n",
       " 0,\n",
       " 0,\n",
       " 0,\n",
       " 0,\n",
       " 0,\n",
       " 0,\n",
       " 0,\n",
       " 0,\n",
       " 0,\n",
       " 0,\n",
       " 0,\n",
       " 0,\n",
       " 0,\n",
       " 0,\n",
       " 0,\n",
       " 0,\n",
       " 0,\n",
       " 0,\n",
       " 0,\n",
       " 0,\n",
       " 0,\n",
       " 0,\n",
       " 0,\n",
       " 0,\n",
       " 0,\n",
       " 0,\n",
       " 5,\n",
       " 5,\n",
       " 5,\n",
       " 5,\n",
       " 5,\n",
       " 0,\n",
       " 0,\n",
       " 0,\n",
       " 0,\n",
       " 0,\n",
       " 0,\n",
       " 0,\n",
       " 0,\n",
       " 0,\n",
       " 0,\n",
       " 0,\n",
       " 0,\n",
       " 0,\n",
       " 0,\n",
       " 0,\n",
       " 0,\n",
       " 0,\n",
       " 0,\n",
       " 0,\n",
       " 0,\n",
       " 0,\n",
       " 0,\n",
       " 0,\n",
       " 0,\n",
       " 0,\n",
       " 0,\n",
       " 0,\n",
       " 0]"
      ]
     },
     "execution_count": 13,
     "metadata": {},
     "output_type": "execute_result"
    }
   ],
   "source": [
    "list(ciapalo)"
   ]
  },
  {
   "cell_type": "code",
   "execution_count": 8,
   "metadata": {},
   "outputs": [
    {
     "ename": "KeyError",
     "evalue": "'IMPORTO'",
     "output_type": "error",
     "traceback": [
      "\u001b[0;31m---------------------------------------------------------------------------\u001b[0m",
      "\u001b[0;31mKeyError\u001b[0m                                  Traceback (most recent call last)",
      "File \u001b[0;32m~/.local/lib/python3.11/site-packages/pandas/core/indexes/base.py:3791\u001b[0m, in \u001b[0;36mIndex.get_loc\u001b[0;34m(self, key)\u001b[0m\n\u001b[1;32m   3790\u001b[0m \u001b[38;5;28;01mtry\u001b[39;00m:\n\u001b[0;32m-> 3791\u001b[0m     \u001b[38;5;28;01mreturn\u001b[39;00m \u001b[38;5;28;43mself\u001b[39;49m\u001b[38;5;241;43m.\u001b[39;49m\u001b[43m_engine\u001b[49m\u001b[38;5;241;43m.\u001b[39;49m\u001b[43mget_loc\u001b[49m\u001b[43m(\u001b[49m\u001b[43mcasted_key\u001b[49m\u001b[43m)\u001b[49m\n\u001b[1;32m   3792\u001b[0m \u001b[38;5;28;01mexcept\u001b[39;00m \u001b[38;5;167;01mKeyError\u001b[39;00m \u001b[38;5;28;01mas\u001b[39;00m err:\n",
      "File \u001b[0;32mindex.pyx:152\u001b[0m, in \u001b[0;36mpandas._libs.index.IndexEngine.get_loc\u001b[0;34m()\u001b[0m\n",
      "File \u001b[0;32mindex.pyx:181\u001b[0m, in \u001b[0;36mpandas._libs.index.IndexEngine.get_loc\u001b[0;34m()\u001b[0m\n",
      "File \u001b[0;32mpandas/_libs/hashtable_class_helper.pxi:7080\u001b[0m, in \u001b[0;36mpandas._libs.hashtable.PyObjectHashTable.get_item\u001b[0;34m()\u001b[0m\n",
      "File \u001b[0;32mpandas/_libs/hashtable_class_helper.pxi:7088\u001b[0m, in \u001b[0;36mpandas._libs.hashtable.PyObjectHashTable.get_item\u001b[0;34m()\u001b[0m\n",
      "\u001b[0;31mKeyError\u001b[0m: 'IMPORTO'",
      "\nThe above exception was the direct cause of the following exception:\n",
      "\u001b[0;31mKeyError\u001b[0m                                  Traceback (most recent call last)",
      "Cell \u001b[0;32mIn[8], line 1\u001b[0m\n\u001b[0;32m----> 1\u001b[0m \u001b[43mdf\u001b[49m\u001b[43m[\u001b[49m\u001b[38;5;124;43m'\u001b[39;49m\u001b[38;5;124;43mIMPORTO\u001b[39;49m\u001b[38;5;124;43m'\u001b[39;49m\u001b[43m]\u001b[49m\u001b[38;5;241m.\u001b[39munique()\n",
      "File \u001b[0;32m~/.local/lib/python3.11/site-packages/pandas/core/frame.py:3893\u001b[0m, in \u001b[0;36mDataFrame.__getitem__\u001b[0;34m(self, key)\u001b[0m\n\u001b[1;32m   3891\u001b[0m \u001b[38;5;28;01mif\u001b[39;00m \u001b[38;5;28mself\u001b[39m\u001b[38;5;241m.\u001b[39mcolumns\u001b[38;5;241m.\u001b[39mnlevels \u001b[38;5;241m>\u001b[39m \u001b[38;5;241m1\u001b[39m:\n\u001b[1;32m   3892\u001b[0m     \u001b[38;5;28;01mreturn\u001b[39;00m \u001b[38;5;28mself\u001b[39m\u001b[38;5;241m.\u001b[39m_getitem_multilevel(key)\n\u001b[0;32m-> 3893\u001b[0m indexer \u001b[38;5;241m=\u001b[39m \u001b[38;5;28;43mself\u001b[39;49m\u001b[38;5;241;43m.\u001b[39;49m\u001b[43mcolumns\u001b[49m\u001b[38;5;241;43m.\u001b[39;49m\u001b[43mget_loc\u001b[49m\u001b[43m(\u001b[49m\u001b[43mkey\u001b[49m\u001b[43m)\u001b[49m\n\u001b[1;32m   3894\u001b[0m \u001b[38;5;28;01mif\u001b[39;00m is_integer(indexer):\n\u001b[1;32m   3895\u001b[0m     indexer \u001b[38;5;241m=\u001b[39m [indexer]\n",
      "File \u001b[0;32m~/.local/lib/python3.11/site-packages/pandas/core/indexes/base.py:3798\u001b[0m, in \u001b[0;36mIndex.get_loc\u001b[0;34m(self, key)\u001b[0m\n\u001b[1;32m   3793\u001b[0m     \u001b[38;5;28;01mif\u001b[39;00m \u001b[38;5;28misinstance\u001b[39m(casted_key, \u001b[38;5;28mslice\u001b[39m) \u001b[38;5;129;01mor\u001b[39;00m (\n\u001b[1;32m   3794\u001b[0m         \u001b[38;5;28misinstance\u001b[39m(casted_key, abc\u001b[38;5;241m.\u001b[39mIterable)\n\u001b[1;32m   3795\u001b[0m         \u001b[38;5;129;01mand\u001b[39;00m \u001b[38;5;28many\u001b[39m(\u001b[38;5;28misinstance\u001b[39m(x, \u001b[38;5;28mslice\u001b[39m) \u001b[38;5;28;01mfor\u001b[39;00m x \u001b[38;5;129;01min\u001b[39;00m casted_key)\n\u001b[1;32m   3796\u001b[0m     ):\n\u001b[1;32m   3797\u001b[0m         \u001b[38;5;28;01mraise\u001b[39;00m InvalidIndexError(key)\n\u001b[0;32m-> 3798\u001b[0m     \u001b[38;5;28;01mraise\u001b[39;00m \u001b[38;5;167;01mKeyError\u001b[39;00m(key) \u001b[38;5;28;01mfrom\u001b[39;00m \u001b[38;5;21;01merr\u001b[39;00m\n\u001b[1;32m   3799\u001b[0m \u001b[38;5;28;01mexcept\u001b[39;00m \u001b[38;5;167;01mTypeError\u001b[39;00m:\n\u001b[1;32m   3800\u001b[0m     \u001b[38;5;66;03m# If we have a listlike key, _check_indexing_error will raise\u001b[39;00m\n\u001b[1;32m   3801\u001b[0m     \u001b[38;5;66;03m#  InvalidIndexError. Otherwise we fall through and re-raise\u001b[39;00m\n\u001b[1;32m   3802\u001b[0m     \u001b[38;5;66;03m#  the TypeError.\u001b[39;00m\n\u001b[1;32m   3803\u001b[0m     \u001b[38;5;28mself\u001b[39m\u001b[38;5;241m.\u001b[39m_check_indexing_error(key)\n",
      "\u001b[0;31mKeyError\u001b[0m: 'IMPORTO'"
     ]
    }
   ],
   "source": [
    "df['IMPORTO'].unique()"
   ]
  }
 ],
 "metadata": {
  "kernelspec": {
   "display_name": "Python 3",
   "language": "python",
   "name": "python3"
  },
  "language_info": {
   "codemirror_mode": {
    "name": "ipython",
    "version": 3
   },
   "file_extension": ".py",
   "mimetype": "text/x-python",
   "name": "python",
   "nbconvert_exporter": "python",
   "pygments_lexer": "ipython3",
   "version": "3.11.6"
  }
 },
 "nbformat": 4,
 "nbformat_minor": 2
}
